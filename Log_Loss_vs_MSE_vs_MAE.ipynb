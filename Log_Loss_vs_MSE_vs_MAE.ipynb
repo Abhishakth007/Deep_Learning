{
 "cells": [
  {
   "cell_type": "code",
   "execution_count": 1,
   "id": "5a899ecf-110a-45f2-85d8-866b8ebfb87f",
   "metadata": {},
   "outputs": [],
   "source": [
    "import numpy as np"
   ]
  },
  {
   "cell_type": "code",
   "execution_count": 5,
   "id": "e4e75cba-10c7-4be4-be7d-4782065052f8",
   "metadata": {},
   "outputs": [],
   "source": [
    "y_predicted = np.array([1,1,0,0,1])     # \n",
    "y_true = np.array([0.30,0.7,1,0,0.5])     "
   ]
  },
  {
   "cell_type": "code",
   "execution_count": 19,
   "id": "3d353b42-4a27-45dc-849d-f581c0d09a3b",
   "metadata": {},
   "outputs": [
    {
     "name": "stderr",
     "output_type": "stream",
     "text": [
      "C:\\Users\\Abhi\\AppData\\Local\\Temp\\ipykernel_2908\\1877160982.py:1: RuntimeWarning: divide by zero encountered in log\n",
      "  np.log(0)           # Log Loss formulae has the part where log(1 - yi[y_predicted]) 1-1 may cause an error as log(0) = -inf\n"
     ]
    },
    {
     "data": {
      "text/plain": [
       "-inf"
      ]
     },
     "execution_count": 19,
     "metadata": {},
     "output_type": "execute_result"
    }
   ],
   "source": [
    "np.log(0)           # Log Loss formulae has the part where log(1 - yi[y_predicted]) 1-1 may cause an error as log(0) = -inf "
   ]
  },
  {
   "cell_type": "code",
   "execution_count": 16,
   "id": "31ebc2a1-0688-4673-94aa-34a116b064c3",
   "metadata": {},
   "outputs": [
    {
     "name": "stdout",
     "output_type": "stream",
     "text": [
      "17.2696280766844\n"
     ]
    }
   ],
   "source": [
    "def log_loss(y_predicted_new , y_actual):\n",
    "\n",
    "    epsilon = 1e-15\n",
    "\n",
    "    loss = 0\n",
    "\n",
    "    y_predicted_new = [max(i,epsilon) for i in y_predicted_new]\n",
    "    \n",
    "    y_predicted_new = [min(i,1-epsilon) for i in y_predicted_new]\n",
    "    \n",
    "    for i ,j in zip( y_actual,y_predicted_new):\n",
    "\n",
    "        loss += i * np.log(j) + (1 - i) * np.log(1 - j)\n",
    "\n",
    "    cost_function = loss / len(y_predicted_new)\n",
    "    \n",
    "    print(-1 * cost_function)\n",
    "\n",
    "log_loss(y_predicted , y_true)\n",
    "    "
   ]
  },
  {
   "cell_type": "code",
   "execution_count": 18,
   "id": "875dfb1c-6a07-4094-bfa9-63b020b7d37a",
   "metadata": {},
   "outputs": [
    {
     "name": "stdout",
     "output_type": "stream",
     "text": [
      "17.2696280766844\n"
     ]
    }
   ],
   "source": [
    "def lof_loss(y_predicted , y_actual):\n",
    "\n",
    "    epsilon = 1e-15\n",
    "    y_predicted = [max(i , epsilon) for i in y_predicted]     # Remove 0 and 1 in the predicted array , and replace with smaller and greater values of 1,0 while doesnt make any difference\n",
    "    y_predicted = [min(i , 1-epsilon ) for i in y_predicted]\n",
    "    y_predicted = np.array(y_predicted)\n",
    "    return -1 * np.mean(y_actual * np.log(y_predicted) + (1-y_actual) * (1 - np.log(y_predicted)))\n",
    "\n",
    "log_loss(y_predicted , y_true)"
   ]
  },
  {
   "cell_type": "code",
   "execution_count": 22,
   "id": "721d24f0-1a2f-4aa8-b08b-f177fa7c2f0f",
   "metadata": {},
   "outputs": [
    {
     "data": {
      "text/plain": [
       "0.366"
      ]
     },
     "execution_count": 22,
     "metadata": {},
     "output_type": "execute_result"
    }
   ],
   "source": [
    "# Mean Squared Error\n",
    "\n",
    "def mse(y_predicted , y_actual):\n",
    "    \n",
    "    return np.mean((y_actual - y_predicted)**2)\n",
    "\n",
    "mse(y_predicted , y_true)"
   ]
  },
  {
   "cell_type": "code",
   "execution_count": 24,
   "id": "a3a45824-ae60-4aa4-b0fc-3c9e2a5cafb5",
   "metadata": {},
   "outputs": [
    {
     "data": {
      "text/plain": [
       "0.5"
      ]
     },
     "execution_count": 24,
     "metadata": {},
     "output_type": "execute_result"
    }
   ],
   "source": [
    "# Mean Absolute Error\n",
    "\n",
    "def mae(y_predicted , y_actual):\n",
    "    \n",
    "    return np.mean(abs(y_actual - y_predicted))\n",
    "\n",
    "mae(y_predicted , y_true)"
   ]
  },
  {
   "cell_type": "code",
   "execution_count": null,
   "id": "e744c3c1-628f-40c1-9956-1150bdc7b6f1",
   "metadata": {},
   "outputs": [],
   "source": [
    "# Check out the difference between the log_loss (17.2696..) and mse (0.366) and mae (0.5) which is very much for a cost function ..\n",
    "\n",
    "# It is very clear to us that MSE & MAE doesn’t strongly penalize misclassifications even for the perfect mismatch! (y_truth , y_predicted)\n",
    "\n",
    "# Therefore using of log_loss or binary_crossentropy is far more accurate than MSE for  classification problems"
   ]
  }
 ],
 "metadata": {
  "kernelspec": {
   "display_name": "Python 3 (ipykernel)",
   "language": "python",
   "name": "python3"
  },
  "language_info": {
   "codemirror_mode": {
    "name": "ipython",
    "version": 3
   },
   "file_extension": ".py",
   "mimetype": "text/x-python",
   "name": "python",
   "nbconvert_exporter": "python",
   "pygments_lexer": "ipython3",
   "version": "3.11.3"
  }
 },
 "nbformat": 4,
 "nbformat_minor": 5
}
