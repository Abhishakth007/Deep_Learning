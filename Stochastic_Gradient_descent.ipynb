{
 "cells": [
  {
   "cell_type": "code",
   "execution_count": 125,
   "id": "9aa0514a-441f-4074-8f37-16aa03ba621e",
   "metadata": {},
   "outputs": [],
   "source": [
    "import pandas as pd\n",
    "\n",
    "import numpy as np\n",
    "\n",
    "from matplotlib import pyplot as plt"
   ]
  },
  {
   "cell_type": "code",
   "execution_count": 126,
   "id": "a5d82072-8ff2-4f1e-9776-1655949d6bbc",
   "metadata": {},
   "outputs": [],
   "source": [
    "df = pd.read_csv(\"C:/Users/Abhi/Downloads/homeprices.csv\")"
   ]
  },
  {
   "cell_type": "code",
   "execution_count": 127,
   "id": "a61db5f9-dc31-4498-aff3-01068da5ea33",
   "metadata": {},
   "outputs": [
    {
     "data": {
      "text/html": [
       "<div>\n",
       "<style scoped>\n",
       "    .dataframe tbody tr th:only-of-type {\n",
       "        vertical-align: middle;\n",
       "    }\n",
       "\n",
       "    .dataframe tbody tr th {\n",
       "        vertical-align: top;\n",
       "    }\n",
       "\n",
       "    .dataframe thead th {\n",
       "        text-align: right;\n",
       "    }\n",
       "</style>\n",
       "<table border=\"1\" class=\"dataframe\">\n",
       "  <thead>\n",
       "    <tr style=\"text-align: right;\">\n",
       "      <th></th>\n",
       "      <th>area</th>\n",
       "      <th>bedrooms</th>\n",
       "      <th>age</th>\n",
       "      <th>price</th>\n",
       "    </tr>\n",
       "  </thead>\n",
       "  <tbody>\n",
       "    <tr>\n",
       "      <th>0</th>\n",
       "      <td>2600</td>\n",
       "      <td>3</td>\n",
       "      <td>20</td>\n",
       "      <td>550000</td>\n",
       "    </tr>\n",
       "    <tr>\n",
       "      <th>1</th>\n",
       "      <td>3000</td>\n",
       "      <td>4</td>\n",
       "      <td>15</td>\n",
       "      <td>565000</td>\n",
       "    </tr>\n",
       "    <tr>\n",
       "      <th>2</th>\n",
       "      <td>3200</td>\n",
       "      <td>3</td>\n",
       "      <td>18</td>\n",
       "      <td>610000</td>\n",
       "    </tr>\n",
       "    <tr>\n",
       "      <th>3</th>\n",
       "      <td>3600</td>\n",
       "      <td>3</td>\n",
       "      <td>30</td>\n",
       "      <td>595000</td>\n",
       "    </tr>\n",
       "    <tr>\n",
       "      <th>4</th>\n",
       "      <td>4000</td>\n",
       "      <td>5</td>\n",
       "      <td>8</td>\n",
       "      <td>760000</td>\n",
       "    </tr>\n",
       "  </tbody>\n",
       "</table>\n",
       "</div>"
      ],
      "text/plain": [
       "   area  bedrooms  age   price\n",
       "0  2600         3   20  550000\n",
       "1  3000         4   15  565000\n",
       "2  3200         3   18  610000\n",
       "3  3600         3   30  595000\n",
       "4  4000         5    8  760000"
      ]
     },
     "execution_count": 127,
     "metadata": {},
     "output_type": "execute_result"
    }
   ],
   "source": [
    "df.head()"
   ]
  },
  {
   "cell_type": "code",
   "execution_count": 128,
   "id": "10b4b833-07ad-4d40-ab32-72dbff6644bc",
   "metadata": {},
   "outputs": [],
   "source": [
    "y_df = df['price']\n",
    "x_df = df.drop(['price'] , axis = 1)"
   ]
  },
  {
   "cell_type": "code",
   "execution_count": 129,
   "id": "6fb47d8e-7e7d-4c81-8b3f-c83a57cdd33c",
   "metadata": {},
   "outputs": [],
   "source": [
    "from sklearn import preprocessing\n",
    "\n",
    "sx = preprocessing.MinMaxScaler()\n",
    "sy = preprocessing.MinMaxScaler()\n",
    "\n",
    "scaled_x = sx.fit_transform(x_df)\n",
    "scaled_y = sy.fit_transform(y_df.values.reshape(df.shape[0],1))    # Reshaped into a 2d Array ...to fit and tranform we need a 2d array"
   ]
  },
  {
   "cell_type": "code",
   "execution_count": 130,
   "id": "c053097f-6419-4b5d-943e-fe51674717fb",
   "metadata": {},
   "outputs": [
    {
     "data": {
      "text/plain": [
       "array([[0.        , 0.        , 0.54545455],\n",
       "       [0.26666667, 0.33333333, 0.31818182],\n",
       "       [0.4       , 0.        , 0.45454545],\n",
       "       [0.66666667, 0.        , 1.        ],\n",
       "       [0.93333333, 0.66666667, 0.        ],\n",
       "       [1.        , 1.        , 0.        ]])"
      ]
     },
     "execution_count": 130,
     "metadata": {},
     "output_type": "execute_result"
    }
   ],
   "source": [
    "scaled_x"
   ]
  },
  {
   "cell_type": "code",
   "execution_count": 131,
   "id": "6f539949-4366-4cdf-9ba8-5346eb307f12",
   "metadata": {},
   "outputs": [
    {
     "data": {
      "text/plain": [
       "6"
      ]
     },
     "execution_count": 131,
     "metadata": {},
     "output_type": "execute_result"
    }
   ],
   "source": [
    "df.shape[0]"
   ]
  },
  {
   "cell_type": "code",
   "execution_count": 132,
   "id": "2dfc122b-6364-4fc2-90dc-c9f56fe55a52",
   "metadata": {},
   "outputs": [],
   "source": [
    "scaled_y = scaled_y.reshape(df.shape[0] ,)"
   ]
  },
  {
   "cell_type": "code",
   "execution_count": 133,
   "id": "54a51647-1c49-41c1-bdcf-bf573e7e4db8",
   "metadata": {},
   "outputs": [
    {
     "data": {
      "text/plain": [
       "array([0.        , 0.05769231, 0.23076923, 0.17307692, 0.80769231,\n",
       "       1.        ])"
      ]
     },
     "execution_count": 133,
     "metadata": {},
     "output_type": "execute_result"
    }
   ],
   "source": [
    "scaled_y"
   ]
  },
  {
   "cell_type": "code",
   "execution_count": 134,
   "id": "f777f325-c12a-4270-812d-9814a922a70e",
   "metadata": {},
   "outputs": [
    {
     "data": {
      "text/plain": [
       "(6, 3)"
      ]
     },
     "execution_count": 134,
     "metadata": {},
     "output_type": "execute_result"
    }
   ],
   "source": [
    "scaled_x.shape   # No.of Features"
   ]
  },
  {
   "cell_type": "code",
   "execution_count": 135,
   "id": "71cc8811-9803-4676-ac21-a1dbbbc891e2",
   "metadata": {},
   "outputs": [],
   "source": [
    "from sklearn.model_selection import  train_test_split"
   ]
  },
  {
   "cell_type": "code",
   "execution_count": 136,
   "id": "1293e960-b9c3-4d02-a6ee-5e8c4dd82915",
   "metadata": {},
   "outputs": [],
   "source": [
    "# X_train , X_test , y_train , y_test  = train_test_split(scaled_x , scaled_y , test_size = 0.2 , random_state = 10)"
   ]
  },
  {
   "cell_type": "code",
   "execution_count": 149,
   "id": "53708ef6-c432-44ec-a935-6f4866c1de65",
   "metadata": {},
   "outputs": [],
   "source": [
    "import random"
   ]
  },
  {
   "cell_type": "code",
   "execution_count": 138,
   "id": "7bf1b40b-1475-412a-8178-ba17f9b1d455",
   "metadata": {},
   "outputs": [
    {
     "name": "stdout",
     "output_type": "stream",
     "text": [
      "epochs : 500 w =  [0.94664508 0.99280627 0.95088737]  bias = -0.8859362859362861\n"
     ]
    },
    {
     "data": {
      "text/plain": [
       "[<matplotlib.lines.Line2D at 0x18f0b3a2c10>]"
      ]
     },
     "execution_count": 138,
     "metadata": {},
     "output_type": "execute_result"
    },
    {
     "data": {
      "image/png": "[encoded data removed]",
      "text/plain": [
       "<Figure size 640x480 with 1 Axes>"
      ]
     },
     "metadata": {},
     "output_type": "display_data"
    }
   ],
   "source": [
    "total_features = scaled_x.shape[1]\n",
    "\n",
    "bias = 0\n",
    "\n",
    "epochs = 500\n",
    "\n",
    "learning_rate = 0.5\n",
    "\n",
    "cost = []\n",
    "\n",
    "epoch_list = []\n",
    "\n",
    "for i in range(epochs):\n",
    "    \n",
    "    n = scaled_x.shape[0]\n",
    "\n",
    "    w = np.ones(shape=(total_features))\n",
    "\n",
    "    \n",
    "\n",
    "\n",
    "    y_predicted  = np.dot(w , scaled_x.T) + bias\n",
    "    \n",
    "    w_d = -(2/n)*np.dot(scaled_x.T , (scaled_y - y_predicted))\n",
    "    \n",
    "    bias_d = (-2/n) * np.sum(scaled_y - y_predicted)\n",
    "    \n",
    "    w = w -  learning_rate * w_d\n",
    "    \n",
    "    bias -= learning_rate * bias_d\n",
    "\n",
    "    cost_function = np.mean(np.square(scaled_y - y_predicted))\n",
    "\n",
    "    cost.append(cost_function)\n",
    "\n",
    "    epoch_list.append(i+1)\n",
    "    \n",
    "     \n",
    "\n",
    "\n",
    "print(f'epochs : {i+1} w =  {w}  bias = {bias}')\n",
    "plt.plot(cost , epoch_list)\n",
    "\n",
    "\n",
    "\n"
   ]
  },
  {
   "cell_type": "code",
   "execution_count": 144,
   "id": "ae0573bb-5ffd-4c91-9bd2-4456cba4356b",
   "metadata": {},
   "outputs": [
    {
     "name": "stderr",
     "output_type": "stream",
     "text": [
      "C:\\Users\\Abhi\\AppData\\Local\\Programs\\Python\\Python311\\Lib\\site-packages\\sklearn\\base.py:465: UserWarning: X does not have valid feature names, but MinMaxScaler was fitted with feature names\n",
      "  warnings.warn(\n"
     ]
    },
    {
     "data": {
      "text/plain": [
       "454509.68361298944"
      ]
     },
     "execution_count": 144,
     "metadata": {},
     "output_type": "execute_result"
    }
   ],
   "source": [
    "def predict(area , bedrooms , age , w , bias):\n",
    "    scaled_X = sx.transform([[area, bedrooms , age ]])[0]\n",
    "    scaled_price = w[0] * scaled_X[0] + w[1] * scaled_X[1] + w[2] * scaled_X[2] + bias\n",
    "    return sy.inverse_transform([[scaled_price]])[0][0]\n",
    "\n",
    "predict(2600,3,\t20,w,bias)\n",
    "    "
   ]
  },
  {
   "cell_type": "code",
   "execution_count": 146,
   "id": "5069cb5f-7599-4fcb-bc0e-0ba76ca5809f",
   "metadata": {},
   "outputs": [],
   "source": [
    "# Stochastic_Gradient_Descent"
   ]
  },
  {
   "cell_type": "code",
   "execution_count": 154,
   "id": "3d6001ca-8975-49a9-933c-bdd5979db2fe",
   "metadata": {},
   "outputs": [
    {
     "name": "stdout",
     "output_type": "stream",
     "text": [
      "500 [0.99968752 0.9996094  0.99962716] -0.8546305402119698\n"
     ]
    },
    {
     "data": {
      "text/plain": [
       "[<matplotlib.lines.Line2D at 0x18f0b25d250>]"
      ]
     },
     "execution_count": 154,
     "metadata": {},
     "output_type": "execute_result"
    },
    {
     "data": {
      "image/png": "[encoded data removed]",
      "text/plain": [
       "<Figure size 640x480 with 1 Axes>"
      ]
     },
     "metadata": {},
     "output_type": "display_data"
    }
   ],
   "source": [
    "total_features = scaled_x.shape[1]\n",
    "\n",
    "bias = 0\n",
    "\n",
    "epochs = 500\n",
    "\n",
    "learning_rate = 0.5\n",
    "\n",
    "n = scaled_x.shape[0]\n",
    "\n",
    "\n",
    "cost = []\n",
    "\n",
    "epoch_list = []\n",
    "\n",
    "for i in range(epochs):\n",
    "    \n",
    "\n",
    "    w = np.ones(shape=(total_features))\n",
    "\n",
    "    random_index = random.randint(0 , n-1)\n",
    "\n",
    "    x_scaled = scaled_x[random_index]\n",
    "\n",
    "    y_scaled = scaled_y[random_index]\n",
    "\n",
    "\n",
    "    y_predicted  = np.dot(w , x_scaled.T) + bias\n",
    "    \n",
    "    w_d = -(2/n)*np.dot(x_scaled.T , (y_scaled - y_predicted))\n",
    "    \n",
    "    bias_d = (-2/n) * np.sum(y_scaled - y_predicted)\n",
    "    \n",
    "    w = w -  learning_rate * w_d\n",
    "    \n",
    "    bias -= learning_rate * bias_d\n",
    "\n",
    "    cost_function = np.mean(np.square(y_scaled - y_predicted))\n",
    "\n",
    "    cost.append(cost_function)\n",
    "\n",
    "    epoch_list.append(i+1)\n",
    "\n",
    "print( i+1  , w , bias)\n",
    "\n",
    "plt.plot(epoch_list , cost)\n",
    "    "
   ]
  },
  {
   "cell_type": "code",
   "execution_count": 152,
   "id": "ffd8ffea-6123-4109-a833-348de6312af4",
   "metadata": {},
   "outputs": [
    {
     "name": "stderr",
     "output_type": "stream",
     "text": [
      "C:\\Users\\Abhi\\AppData\\Local\\Programs\\Python\\Python311\\Lib\\site-packages\\sklearn\\base.py:465: UserWarning: X does not have valid feature names, but MinMaxScaler was fitted with feature names\n",
      "  warnings.warn(\n"
     ]
    },
    {
     "data": {
      "text/plain": [
       "470744.16088600626"
      ]
     },
     "execution_count": 152,
     "metadata": {},
     "output_type": "execute_result"
    }
   ],
   "source": [
    "def predict(area , bedrooms , age , w , bias):\n",
    "    scaled_X = sx.transform([[area, bedrooms , age ]])[0]\n",
    "    scaled_price = w[0] * scaled_X[0] + w[1] * scaled_X[1] + w[2] * scaled_X[2] + bias\n",
    "    return sy.inverse_transform([[scaled_price]])[0][0]\n",
    "\n",
    "predict(2600,3,\t20,w,bias)\n",
    "    "
   ]
  },
  {
   "cell_type": "code",
   "execution_count": null,
   "id": "61c424e1-e746-444c-a0b6-b63fc8947b3d",
   "metadata": {},
   "outputs": [],
   "source": [
    "# 454509.68361298944 for the values predict(2600,3,\t20,w,bias)  ....\n",
    "\n",
    "# 470744.16088600626   for the values predict(2600,3,\t20,w,bias)\n",
    "\n",
    "# where true value for the given variables = 550000."
   ]
  }
 ],
 "metadata": {
  "kernelspec": {
   "display_name": "Python 3 (ipykernel)",
   "language": "python",
   "name": "python3"
  },
  "language_info": {
   "codemirror_mode": {
    "name": "ipython",
    "version": 3
   },
   "file_extension": ".py",
   "mimetype": "text/x-python",
   "name": "python",
   "nbconvert_exporter": "python",
   "pygments_lexer": "ipython3",
   "version": "3.11.3"
  }
 },
 "nbformat": 4,
 "nbformat_minor": 5
}
